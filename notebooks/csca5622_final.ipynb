{
 "cells": [
  {
   "cell_type": "code",
   "execution_count": null,
   "id": "4767d277-4414-4179-bff0-00d8ab87ec64",
   "metadata": {},
   "outputs": [],
   "source": [
    "# file:///C:/Users/Kyle/Downloads/Supervised%20Learning%20Rubric.pdf\n",
    "# https://www.basketball-reference.com/teams/LAL/2025/gamelog/"
   ]
  },
  {
   "cell_type": "markdown",
   "id": "66fc9fdf",
   "metadata": {},
   "source": [
    "Will the lakers win their next game? Logistic Regression on 24-25 season\n",
    "\n",
    "Problem:\n",
    "How does the lakers currently perform this season? How well will the lakers perform against different teams this season? How well will the lakers perform in the next game? All of these questions can be answered using this logistic regression model that predicts whether or not the lakers will win when evaluating features such as\n",
    "\n",
    "Exploratory Data Analysis (EDA) procedure:\n",
    "Since the model that will be used is logistic regression, an ROC curve will be used to determine the model's true positive rate and the false positive rate. Other metrics that will also be evaluated are precision and recall of the predictions. "
   ]
  },
  {
   "cell_type": "code",
   "execution_count": 26,
   "id": "78a2d7b6",
   "metadata": {},
   "outputs": [],
   "source": [
    "from math import exp\n",
    "import numpy as np\n",
    "import pandas as pd\n",
    "from sklearn.linear_model import LogisticRegression\n",
    "from sklearn.model_selection import train_test_split\n",
    "from sklearn.preprocessing import LabelEncoder\n",
    "import matplotlib.pyplot as plt\n",
    "%matplotlib inline\n",
    "\n",
    "from sklearn.metrics import roc_auc_score\n",
    "from sklearn.metrics import roc_curve"
   ]
  },
  {
   "cell_type": "markdown",
   "id": "b555e927",
   "metadata": {},
   "source": [
    "Collecting and Cleaning Data:\n",
    "To collect the data I visited basketball-reference.com and selected the advanced game log data of each game from the current 2024-25 season. There was an option to download a csv so I took it and formatted it on a spreadsheet. There were a few issues with the dataset. One issue was that there were some features that could not be used in logistic regression since those were not relevant so those were dropped, namely the dates and game count."
   ]
  },
  {
   "cell_type": "code",
   "execution_count": 71,
   "id": "cfc73b8a",
   "metadata": {},
   "outputs": [
    {
     "name": "stdout",
     "output_type": "stream",
     "text": [
      "    Location  Opp  W/L   Tm  Opp.1  FG  FGA    FG%  3P  3PA  ...  FTopp  \\\n",
      "0          0    6    1  110    103  42   95  0.442   5   30  ...     20   \n",
      "1          0   11    1  123    116  40   75  0.533  14   27  ...     15   \n",
      "2          0   13    1  131    127  48   92  0.522  14   34  ...     22   \n",
      "3          1   11    0  105    109  39   94  0.415  14   32  ...     18   \n",
      "4          1    1    0  110    134  38   77  0.494   6   28  ...      5   \n",
      "5          1   15    1  131    125  42   88  0.477  11   32  ...     11   \n",
      "6          1    3    0  103    115  37   85  0.435   9   25  ...     17   \n",
      "7          1    4    0  114    131  41   93  0.441  15   48  ...     18   \n",
      "8          0   10    1  116    106  44   85  0.518  16   35  ...     15   \n",
      "9          0   15    1  123    103  44   86  0.512  12   37  ...     19   \n",
      "10         0    4    1  128    123  43   85  0.506  20   41  ...     27   \n",
      "11         1   14    1  120    115  44   88  0.500  14   31  ...     12   \n",
      "12         1    7    1  104     99  39   89  0.438  12   40  ...     18   \n",
      "13         0   16    1  124    118  42   76  0.553  14   31  ...     16   \n",
      "14         0    9    0  118    119  44   87  0.506  13   31  ...     18   \n",
      "15         0    2    0  102    127  39   88  0.443  13   36  ...     11   \n",
      "16         1   11    0  100    127  37   85  0.435   8   34  ...      8   \n",
      "17         1   14    1  119    101  48   90  0.533  13   34  ...     15   \n",
      "18         0    8    0   93    101  33   73  0.452  11   38  ...     12   \n",
      "19         1   16    1  105    104  39   88  0.443   7   33  ...     10   \n",
      "20         1    6    0   80    109  32   79  0.405   6   31  ...     12   \n",
      "21         1    5    0   93    134  37   88  0.420   5   22  ...      6   \n",
      "22         1    0    0  132    134  51   99  0.515  16   35  ...     17   \n",
      "23         0   12    1  107     98  38   83  0.458  13   34  ...     19   \n",
      "\n",
      "    FTAopp  FT%opp  ORBopp  TRBopp  ASTopp  STLopp  BLKopp  TOVopp  PFopp  \n",
      "0       27   0.741      12      47      17       4       1      16     22  \n",
      "1       17   0.882       5      34      35       8       4      17     26  \n",
      "2       25   0.880       5      32      32      12       5      14     19  \n",
      "3       20   0.900       9      46      21       7      11      11     22  \n",
      "4        8   0.625       6      36      37      14       2      12     26  \n",
      "5       13   0.846      15      44      35       4       6      11     29  \n",
      "6       22   0.773      17      55      22       6       5      12     25  \n",
      "7       23   0.783      12      50      28       5       6      18     17  \n",
      "8       23   0.652      13      44      28       6       4       8     14  \n",
      "9       22   0.864      12      40      26       2       2      18     23  \n",
      "10      33   0.818      12      41      28      11       6      14     25  \n",
      "11      16   0.750      11      40      32       6       5      13     19  \n",
      "12      23   0.783      18      50      24       7       4      17     19  \n",
      "13      19   0.842      11      42      28       9       0      16     24  \n",
      "14      21   0.857      15      48      31       8       5      17     25  \n",
      "15      19   0.579       8      48      37       7       2      18     18  \n",
      "16      10   0.800       8      46      31       9       3       9     18  \n",
      "17      16   0.938      11      38      26       7       4      15     13  \n",
      "18      16   0.750      15      47      20      12       3      10     17  \n",
      "19      16   0.625       8      44      27       4       4      15     19  \n",
      "20      15   0.800       7      43      31      11       2      15     17  \n",
      "21       9   0.667      13      52      42      11       5      16     16  \n",
      "22      22   0.773      11      48      40      10       5      17     24  \n",
      "23      21   0.905      12      49      17       4       3      18     19  \n",
      "\n",
      "[24 rows x 37 columns]\n"
     ]
    }
   ],
   "source": [
    "class data_import:\n",
    "\n",
    "    def __init__(self):\n",
    "        df = pd.read_csv(\"../laker_data.csv\")\n",
    "        \n",
    "        # encode the opponent teams into numbers\n",
    "        encoder = LabelEncoder()\n",
    "        team_labels = encoder.fit_transform(df[\"Opp\"])\n",
    "        df[\"Opp\"] = team_labels\n",
    "\n",
    "        y = df[\"W/L\"].values\n",
    "        x = df.drop(\"W/L\", axis=1).values\n",
    "\n",
    "        print(df)\n",
    "        self.train_x, self.test_x, self.train_y, self.test_y = train_test_split(x, y, test_size = 0.2, random_state = 42)\n",
    "\n",
    "data = data_import()"
   ]
  },
  {
   "cell_type": "markdown",
   "id": "fd58639f-f7cb-409b-8cef-7298c34cea81",
   "metadata": {},
   "source": [
    "Building Logistic Regression Model"
   ]
  },
  {
   "cell_type": "code",
   "execution_count": 41,
   "id": "0730b2b5-bfe8-4254-90b7-4f5538e4b8ac",
   "metadata": {},
   "outputs": [],
   "source": [
    "clf = LogisticRegression(solver=\"liblinear\").fit(data.train_x, data.train_y)\n",
    "\n",
    "yp = clf.predict(data.test_x)\n",
    "ypp = clf.predict_proba(data.test_x)"
   ]
  },
  {
   "cell_type": "markdown",
   "id": "15cf9b57-968c-4c67-92e1-6fdce19bc31e",
   "metadata": {},
   "source": [
    "Plotting the ROC curve"
   ]
  },
  {
   "cell_type": "code",
   "execution_count": 69,
   "id": "e1a953b5-14c5-4926-b913-c7e26a58d711",
   "metadata": {},
   "outputs": [
    {
     "data": {
      "text/plain": [
       "Text(0.7, 0.2, 'AUC=1.000')"
      ]
     },
     "execution_count": 69,
     "metadata": {},
     "output_type": "execute_result"
    },
    {
     "data": {
      "image/png": "[encoded data removed]",
      "text/plain": [
       "<Figure size 640x480 with 1 Axes>"
      ]
     },
     "metadata": {},
     "output_type": "display_data"
    }
   ],
   "source": [
    "fpr, tpr, th = roc_curve(data.test_y,ypp[:,1])\n",
    "auc = roc_auc_score(data.test_y,ypp[:,1])\n",
    "plt.plot(fpr,tpr,\"k-\")\n",
    "plt.plot(np.arange(0,1.1,0.1), np.arange(0,1.1,0.1), \"r--\")\n",
    "plt.title(\"ROC curve\")\n",
    "plt.xlabel(\"FPR\")\n",
    "plt.ylabel(\"TPR\")\n",
    "plt.text(0.7, 0.2,\"AUC=\" + \"{:.3f}\".format(auc))"
   ]
  },
  {
   "cell_type": "markdown",
   "id": "6caa29cb-a24b-433a-b54e-58e6c49549ef",
   "metadata": {},
   "source": [
    "Calculate Precision and Recall"
   ]
  },
  {
   "cell_type": "code",
   "execution_count": 67,
   "id": "62aa77b8-5431-4b9a-8baa-6392c92d708f",
   "metadata": {},
   "outputs": [
    {
     "name": "stdout",
     "output_type": "stream",
     "text": [
      "Model Precision :  1.0\n",
      "Model Recall :  0.6666666666666666\n",
      "y true:  [1 0 1 0 1]\n",
      "y prediction:  [0 0 1 0 1]\n"
     ]
    }
   ],
   "source": [
    "def calculate_precision(y_true, y_pred):\n",
    "    # true positive divided by true and false positives\n",
    "    n = len(y_true)\n",
    "    tp = 0\n",
    "    fp = 0\n",
    "    for i in range(n):\n",
    "        if y_true[i] == 1 and y_pred[i] == 1: # check for true positive\n",
    "            tp += 1\n",
    "        elif y_true[i] == 0 and y_pred[i] == 1: # check for false positive\n",
    "            fp += 1\n",
    "    return tp / (tp + fp)\n",
    "\n",
    "def calculate_recall(y_true, y_pred):\n",
    "    # true positive divided by true positive and false negatives\n",
    "    n = len(y_true)\n",
    "    tp = 0\n",
    "    fn = 0\n",
    "    for i in range(n):\n",
    "        if y_true[i] == 1 and y_pred[i] == 1: # check for true positive\n",
    "            tp += 1\n",
    "        elif y_true[i] == 1 and y_pred[i] == 0: # check for false negative\n",
    "            fn += 1\n",
    "    \n",
    "    return tp/(tp + fn)\n",
    "\n",
    "precision = calculate_precision(data.test_y, yp)\n",
    "recall = calculate_recall(data.test_y, yp)\n",
    "print('Model Precision : ' , precision)\n",
    "print('Model Recall : ' , recall)\n",
    "print(\"y true: \", data.test_y)\n",
    "print(\"y prediction: \", yp)"
   ]
  },
  {
   "cell_type": "code",
   "execution_count": 70,
   "id": "b867b77d-bdee-42d0-8a2f-fb0022f168ac",
   "metadata": {},
   "outputs": [
    {
     "name": "stdout",
     "output_type": "stream",
     "text": [
      "[[6.95554540e-01 3.04445460e-01]\n",
      " [9.99873140e-01 1.26859887e-04]\n",
      " [1.12990341e-02 9.88700966e-01]\n",
      " [7.54866493e-01 2.45133507e-01]\n",
      " [9.66898985e-02 9.03310101e-01]]\n",
      "actual y:  [1 0 1 0 1]\n",
      "y predictions:  [0 0 1 0 1]\n"
     ]
    }
   ],
   "source": [
    "predictions = []\n",
    "print(ypp)\n",
    "print(\"actual y: \", data.test_y)\n",
    "print(\"y predictions: \",yp)\n",
    "\n",
    "for i in range(len(ypp)):\n",
    "    if ypp[i][1] > 0.5:\n",
    "        predictions.append(1)\n",
    "    else:\n",
    "        predictions.append(0)\n",
    "\n",
    "# print(predictions)"
   ]
  },
  {
   "cell_type": "markdown",
   "id": "72790cc2-6031-420f-9f32-f03f705d9150",
   "metadata": {},
   "source": [
    "Results and Discussion/Conclusion:\n",
    "To recap, the "
   ]
  }
 ],
 "metadata": {
  "kernelspec": {
   "display_name": "Python 3 (ipykernel)",
   "language": "python",
   "name": "python3"
  },
  "language_info": {
   "codemirror_mode": {
    "name": "ipython",
    "version": 3
   },
   "file_extension": ".py",
   "mimetype": "text/x-python",
   "name": "python",
   "nbconvert_exporter": "python",
   "pygments_lexer": "ipython3",
   "version": "3.11.4"
  }
 },
 "nbformat": 4,
 "nbformat_minor": 5
}
